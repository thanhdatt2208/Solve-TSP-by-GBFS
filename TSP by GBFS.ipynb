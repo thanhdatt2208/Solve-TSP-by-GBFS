{
 "cells": [
  {
   "cell_type": "code",
   "execution_count": null,
   "metadata": {
    "cellView": "form",
    "id": "D1SlIwsI8pLy"
   },
   "outputs": [],
   "source": [
    "# @title Tải thư viện\n",
    "#Tải hai thư viện về để vẽ đồ thị\n",
    "%pip install networkx\n",
    "%pip install matplotlib"
   ]
  },
  {
   "cell_type": "markdown",
   "metadata": {
    "id": "Hc-e8c7w8pL0"
   },
   "source": [
    "**Một số đồ thị tham khảo:**"
   ]
  },
  {
   "cell_type": "code",
   "execution_count": 49,
   "metadata": {
    "cellView": "form",
    "id": "7vrHYWO593rJ"
   },
   "outputs": [],
   "source": [
    "# @title **Một số đồ thị tham khảo:**\n",
    "#Case1:\n",
    "def Graph_Data():\n",
    "    graph1 = {\n",
    "      'A': [['B', 10], ['C', 15], ['D', 20]],\n",
    "      'B': [['A', 10], ['C', 25], ['D', 35]],\n",
    "      'C': [['A', 15], ['B', 25], ['D', 30]],\n",
    "      'D': [['A', 20], ['B', 35], ['C', 30]],\n",
    "    }\n",
    "#Case2:\n",
    "    graph2 = {\n",
    "        'A': [['B', 915], ['C', 1461], ['D', 343], ['E', 1407]],\n",
    "        'B': [['A', 915], ['C', 1924], ['D', 1258], ['E', 545]],\n",
    "        'C': [['A', 1461], ['B', 1924], ['D', 1751], ['E', 1987]],\n",
    "        'D': [['A', 343], ['B', 1258], ['C', 1751], ['E', 1742]],\n",
    "        'E': [['A', 1407], ['B', 545], ['C', 1987], ['D', 1742]],\n",
    "    }\n",
    "#Case3:\n",
    "    graph3 = {\n",
    "        'A': [['B', 10], ['D', 20]],\n",
    "        'B': [['A', 10], ['C', 15], ['D', 5]],\n",
    "        'C': [['B', 15], ['D', 10]],\n",
    "        'D': [['A', 20], ['B', 5], ['C', 10]],\n",
    "    }\n",
    "#Case4:\n",
    "    graph4 = {\n",
    "        'A': [['B', 10]],\n",
    "        'B': [['D', 5]],\n",
    "        'C': [['D', 10]],\n",
    "        'D': [['C', 10]],\n",
    "    }\n",
    "    return graph1, graph2, graph3, graph4\n"
   ]
  },
  {
   "cell_type": "markdown",
   "metadata": {},
   "source": [
    "Lựa chọn đồ thị có sẵn:\n",
    "1. Trường hợp đồ thị với 4 đỉnh\n",
    "2. Trường hợp đồ thị với 5 đỉnh\n",
    "3. Trường hợp đồ thị với 4 đỉnh\n",
    "4. Trường hợp đồ thị với 4 đỉnh"
   ]
  },
  {
   "cell_type": "code",
   "execution_count": null,
   "metadata": {
    "cellView": "form",
    "id": "6yBrBNC28pL2"
   },
   "outputs": [],
   "source": [
    "# @title **Thuật toán GBFS**\n",
    "\n",
    "# Lựa chọn đồ thị\n",
    "def graph_choice(i):\n",
    "    graph1, graph2, graph3, graph4 = Graph_Data()\n",
    "    switcher={\n",
    "                1:graph1,\n",
    "                2:graph2,\n",
    "                3:graph3,\n",
    "                4:graph4,\n",
    "            }\n",
    "    return switcher.get(i,\"Vui lòng nhập đúng nội dung\")\n",
    "\n",
    "# Thuật toán GBFS để giải TSP\n",
    "def greedy_best_firts_search(begin, data):\n",
    "    fringer = []\n",
    "    no_visited = list(data.keys())\n",
    "    fringer.append([(0, begin)])\n",
    "    close = []\n",
    "    total_distance = 0\n",
    "    try:\n",
    "        while True:\n",
    "            # Lấy cạnh có chi phí nhỏ nhất\n",
    "            fringer[-1].sort(reverse=False)\n",
    "            current_edge = fringer[-1].pop(0)\n",
    "            close.append(current_edge)\n",
    "            no_visited.remove(current_edge[1])\n",
    "\n",
    "            # Nếu còn đỉnh chưa thăm, thêm các đỉnh láng giềng\n",
    "            if no_visited:\n",
    "                fringer.append([])\n",
    "                for neighbor, cost in data[current_edge[1]]:\n",
    "                    if neighbor in no_visited:\n",
    "                        fringer[-1].append((cost, neighbor))\n",
    "            else:\n",
    "                # Khi tất cả các đỉnh đã thăm, quay về điểm bắt đầu\n",
    "                for neighbor, cost in data[close[-1][1]]:\n",
    "                    if neighbor == begin:\n",
    "                        total_distance += cost\n",
    "                        print(\"Đã tìm thấy hành trình tối ưu:\")\n",
    "                        for edge in close:\n",
    "                            print(edge[1], end=\" -> \")\n",
    "                            total_distance += edge[0]\n",
    "                        print(begin)\n",
    "                        print(f\"Tổng khoảng cách: {total_distance}\")\n",
    "                        return\n",
    "    except Exception as e:\n",
    "        print(\"Không tìm ra lời giải.\")\n",
    "\n",
    "# Giải bài toán với điểm bắt đầu là A\n",
    "choice = int(input('Chọn đồ thị có sẵn'))\n",
    "start = (input('Nhập đỉnh bắt đầu')).title()\n",
    "graph = graph_choice(choice)\n",
    "greedy_best_firts_search(start, graph)\n"
   ]
  },
  {
   "cell_type": "code",
   "execution_count": null,
   "metadata": {
    "cellView": "form",
    "id": "ki9oYxFh8pL3"
   },
   "outputs": [],
   "source": [
    "# @title **VẼ ĐỒ THỊ**\n",
    "import networkx as nx\n",
    "import matplotlib.pyplot as plt\n",
    "\n",
    "# Hàm chuyển đổi từ đồ thị dạng dictionary sang NetworkX\n",
    "def convert_to_networkx(graph):\n",
    "    G = nx.Graph()  # Tạo đồ thị không có hướng\n",
    "    for node, edges in graph.items():\n",
    "        for neighbor, weight in edges:\n",
    "            # Thêm cạnh vào đồ thị, với trọng số là 'weight'\n",
    "            G.add_edge(node, neighbor, weight=weight)\n",
    "    return G\n",
    "\n",
    "# Hàm vẽ đồ thị\n",
    "def draw_graph(G):\n",
    "    pos = nx.spring_layout(G)  # Vị trí các nút\n",
    "    labels = nx.get_edge_attributes(G, 'weight')  # Lấy trọng số của các cạnh\n",
    "\n",
    "    # Vẽ đồ thị với các trọng số\n",
    "    nx.draw(G, pos, with_labels=True, node_size=2000, node_color='lightblue', font_size=12)\n",
    "    nx.draw_networkx_edge_labels(G, pos, edge_labels=labels)\n",
    "    plt.show()\n",
    "G = convert_to_networkx(graph)\n",
    "draw_graph(G)"
   ]
  }
 ],
 "metadata": {
  "colab": {
   "provenance": []
  },
  "kernelspec": {
   "display_name": "Python 3",
   "language": "python",
   "name": "python3"
  },
  "language_info": {
   "codemirror_mode": {
    "name": "ipython",
    "version": 3
   },
   "file_extension": ".py",
   "mimetype": "text/x-python",
   "name": "python",
   "nbconvert_exporter": "python",
   "pygments_lexer": "ipython3",
   "version": "3.12.7"
  }
 },
 "nbformat": 4,
 "nbformat_minor": 0
}
