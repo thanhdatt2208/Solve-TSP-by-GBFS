{
  "cells": [
    {
      "cell_type": "code",
      "execution_count": null,
      "metadata": {
        "id": "D1SlIwsI8pLy",
        "cellView": "form"
      },
      "outputs": [],
      "source": [
        "# @title Tải thư viện\n",
        "#Tải hai thư viện về để vẽ đồ thị\n",
        "%pip install networkx\n",
        "%pip install matplotlib"
      ]
    },
    {
      "cell_type": "markdown",
      "metadata": {
        "id": "Hc-e8c7w8pL0"
      },
      "source": [
        "**Một số đồ thị tham khảo:**"
      ]
    },
    {
      "cell_type": "code",
      "execution_count": null,
      "metadata": {
        "cellView": "form",
        "id": "7vrHYWO593rJ"
      },
      "outputs": [],
      "source": [
        "# @title **Một số đồ thị tham khảo:**\n",
        "#Case1:\n",
        "graph = {\n",
        "    'A': [['B', 12], ['C', 10], ['D', 19], ['E', 8],  ['F', 21], ['G', 11]],\n",
        "    'B': [['A', 12], ['C', 3],  ['D', 7],  ['E', 6],  ['F', 4],  ['G', 15]],\n",
        "    'C': [['A', 10], ['B', 3],  ['D', 8],  ['E', 5],  ['F', 9],  ['G', 13]],\n",
        "    'D': [['A', 19], ['B', 7],  ['C', 8],  ['E', 14], ['F', 6],  ['G', 17]],\n",
        "    'E': [['A', 8],  ['B', 6],  ['C', 5],  ['D', 14], ['F', 11], ['G', 9]],\n",
        "    'F': [['A', 21], ['B', 4],  ['C', 9],  ['D', 6],  ['E', 11], ['G', 7]],\n",
        "    'G': [['A', 11], ['B', 15], ['C', 13], ['D', 17], ['E', 9],  ['F', 7]]\n",
        "}\n",
        "\n",
        "#Case2:\n",
        "graph = {\n",
        "    'A': [['B', 10], ['C', 15], ['D', 20]],\n",
        "    'B': [['A', 10], ['C', 35], ['D', 25]],\n",
        "    'C': [['A', 15], ['B', 35], ['D', 30]],\n",
        "    'D': [['A', 20], ['B', 25], ['C', 30]],\n",
        "}\n",
        "#Case3:\n",
        "graph = {\n",
        "    'A': [['B', 10], ['C', 15]],\n",
        "    'B': [['A', 10], ['C', 35], ['D', 25]],\n",
        "    'C': [['A', 15], ['B', 35], ['D', 30], ['E', 5]],\n",
        "    'D': [['B', 25], ['C', 30], ['E', 20]],\n",
        "    'E': [['C', 5], ['D', 20]],\n",
        "}\n",
        "#Case4:\n",
        "graph = {\n",
        "    'A': [['B', 10], ['D', 20]],\n",
        "    'B': [['A', 10], ['C', 35],  ['D', 25]],\n",
        "    'C': [['B', 35],  ['D', 30]],\n",
        "    'D': [['A', 20], ['B', 25],  ['C', 30]],\n",
        "}\n"
      ]
    },
    {
      "cell_type": "code",
      "execution_count": null,
      "metadata": {
        "cellView": "form",
        "id": "6yBrBNC28pL2"
      },
      "outputs": [],
      "source": [
        "# @title **Thuật toán GBFS**\n",
        "graph = {\n",
        "    'A': [['B', 10], ['C', 15]],\n",
        "    'B': [['A', 10], ['C', 35], ['D', 25]],\n",
        "    'C': [['A', 15], ['B', 35], ['D', 30], ['E', 5]],\n",
        "    'D': [['B', 25], ['C', 30], ['E', 20]],\n",
        "    'E': [['C', 5], ['D', 20]],\n",
        "}\n",
        "\n",
        "# Thuật toán GBFS để giải TSP\n",
        "def greedy_best_firts_search(begin, data):\n",
        "    fringer = []\n",
        "    no_visited = list(data.keys())\n",
        "    fringer.append([(0, begin)])\n",
        "    close = []\n",
        "    total_distance = 0\n",
        "    try:\n",
        "        while True:\n",
        "            # Lấy cạnh có chi phí nhỏ nhất\n",
        "            fringer[-1].sort(reverse=False)\n",
        "            current_edge = fringer[-1].pop(0)\n",
        "            close.append(current_edge)\n",
        "            no_visited.remove(current_edge[1])\n",
        "\n",
        "            # Nếu còn đỉnh chưa thăm, thêm các đỉnh láng giềng\n",
        "            if no_visited:\n",
        "                fringer.append([])\n",
        "                for neighbor, cost in data[current_edge[1]]:\n",
        "                    if neighbor in no_visited:\n",
        "                        fringer[-1].append((cost, neighbor))\n",
        "            else:\n",
        "                # Khi tất cả các đỉnh đã thăm, quay về điểm bắt đầu\n",
        "                for neighbor, cost in data[close[-1][1]]:\n",
        "                    if neighbor == begin:\n",
        "                        total_distance += cost\n",
        "                        print(\"Đã tìm thấy hành trình tối ưu:\")\n",
        "                        for edge in close:\n",
        "                            print(edge[1], end=\" -> \")\n",
        "                            total_distance += edge[0]\n",
        "                        print(begin)\n",
        "                        print(f\"Tổng khoảng cách: {total_distance}\")\n",
        "                        return\n",
        "    except Exception as e:\n",
        "        print(\"Không thể tìm thấy chu trình Hamilton.\")\n",
        "        print(e)\n",
        "\n",
        "# Giải bài toán với điểm bắt đầu là A\n",
        "greedy_best_firts_search('A', graph)\n"
      ]
    },
    {
      "cell_type": "code",
      "execution_count": null,
      "metadata": {
        "id": "ki9oYxFh8pL3",
        "cellView": "form"
      },
      "outputs": [],
      "source": [
        "# @title **VẼ ĐỒ THỊ**\n",
        "import networkx as nx\n",
        "import matplotlib.pyplot as plt\n",
        "graph = {\n",
        "    'A': [['B', 10], ['C', 15], ['D', 20]],\n",
        "    'B': [['A', 10], ['C', 35], ['D', 25]],\n",
        "    'C': [['A', 15], ['B', 35], ['D', 30]],\n",
        "    'D': [['A', 20], ['B', 25], ['C', 30]],\n",
        "}\n",
        "\n",
        "# Hàm chuyển đổi từ đồ thị dạng dictionary sang NetworkX\n",
        "def convert_to_networkx(graph):\n",
        "    G = nx.Graph()  # Tạo đồ thị không có hướng\n",
        "    for node, edges in graph.items():\n",
        "        for neighbor, weight in edges:\n",
        "            # Thêm cạnh vào đồ thị, với trọng số là 'weight'\n",
        "            G.add_edge(node, neighbor, weight=weight)\n",
        "    return G\n",
        "\n",
        "# Hàm vẽ đồ thị\n",
        "def draw_graph(G):\n",
        "    pos = nx.spring_layout(G)  # Vị trí các nút\n",
        "    labels = nx.get_edge_attributes(G, 'weight')  # Lấy trọng số của các cạnh\n",
        "\n",
        "    # Vẽ đồ thị với các trọng số\n",
        "    nx.draw(G, pos, with_labels=True, node_size=2000, node_color='lightblue', font_size=12)\n",
        "    nx.draw_networkx_edge_labels(G, pos, edge_labels=labels)\n",
        "    plt.show()\n",
        "G = convert_to_networkx(graph)\n",
        "draw_graph(G)"
      ]
    }
  ],
  "metadata": {
    "colab": {
      "provenance": []
    },
    "kernelspec": {
      "display_name": "Python 3",
      "language": "python",
      "name": "python3"
    },
    "language_info": {
      "codemirror_mode": {
        "name": "ipython",
        "version": 3
      },
      "file_extension": ".py",
      "mimetype": "text/x-python",
      "name": "python",
      "nbconvert_exporter": "python",
      "pygments_lexer": "ipython3",
      "version": "3.12.7"
    }
  },
  "nbformat": 4,
  "nbformat_minor": 0
}